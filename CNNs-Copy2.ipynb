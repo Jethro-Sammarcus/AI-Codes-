{
 "cells": [
  {
   "cell_type": "code",
   "execution_count": 1,
   "metadata": {},
   "outputs": [],
   "source": [
    "# Import necessary packages\n",
    "\n",
    "%matplotlib inline\n",
    "%config InlineBackend.figure_format = 'retina'\n",
    "\n",
    "import numpy as np\n",
    "import torch\n",
    "\n",
    "#import helper\n",
    "\n",
    "import matplotlib.pyplot as plt"
   ]
  },
  {
   "cell_type": "code",
   "execution_count": 2,
   "metadata": {},
   "outputs": [],
   "source": [
    "import torchvision\n",
    "from torch import nn\n",
    "import torch.nn.functional as F\n",
    "from torchvision import datasets, transforms\n",
    "from torch import optim"
   ]
  },
  {
   "cell_type": "code",
   "execution_count": 3,
   "metadata": {},
   "outputs": [
    {
     "name": "stdout",
     "output_type": "stream",
     "text": [
      "CUDA is available!  Training on GPU ...\n"
     ]
    }
   ],
   "source": [
    "train_on_gpu = torch.cuda.is_available()\n",
    "\n",
    "if not train_on_gpu:\n",
    "    print('CUDA is not available.  Training on CPU ...')\n",
    "else:\n",
    "    print('CUDA is available!  Training on GPU ...')"
   ]
  },
  {
   "cell_type": "code",
   "execution_count": 4,
   "metadata": {},
   "outputs": [],
   "source": [
    "data_dir = 'Cat_Dog_data'\n",
    "\n",
    "# TODO: Define transforms for the training data and testing data\n",
    "train_transforms = transforms.Compose([transforms.RandomRotation(30),\n",
    "                                       transforms.RandomResizedCrop(224),\n",
    "                                       transforms.RandomHorizontalFlip(),\n",
    "                                       transforms.ToTensor(),\n",
    "                                       transforms.Normalize([0.485, 0.456, 0.406],\n",
    "                                                            [0.229, 0.224, 0.225])])\n",
    "\n",
    "test_transforms = transforms.Compose([transforms.Resize(255),\n",
    "                                      transforms.CenterCrop(224),\n",
    "                                      transforms.ToTensor(),\n",
    "                                      transforms.Normalize([0.485, 0.456, 0.406],\n",
    "                                                           [0.229, 0.224, 0.225])])\n",
    "\n",
    "# Pass transforms in here, then run the next cell to see how the transforms look\n",
    "train_data = datasets.ImageFolder(data_dir + '/train', transform=train_transforms)\n",
    "test_data = datasets.ImageFolder(data_dir + '/test', transform=test_transforms)\n",
    "\n",
    "trainloader = torch.utils.data.DataLoader(train_data, batch_size=64, shuffle=True)\n",
    "testloader = torch.utils.data.DataLoader(test_data, batch_size=64)"
   ]
  },
  {
   "cell_type": "code",
   "execution_count": 5,
   "metadata": {},
   "outputs": [],
   "source": [
    "def plot_img(image):\n",
    "    image = image.numpy()[0]\n",
    "    mean = 0.5\n",
    "    std = 0.5\n",
    "    image = ((mean*image)+std)\n",
    "    plt.imshow(image,cmap='gray')"
   ]
  },
  {
   "cell_type": "code",
   "execution_count": 17,
   "metadata": {},
   "outputs": [
    {
     "name": "stdout",
     "output_type": "stream",
     "text": [
      "Net(\n",
      "  (conv1): Conv2d(3, 16, kernel_size=(5, 5), stride=(2, 2), padding=(1, 1))\n",
      "  (conv2): Conv2d(16, 32, kernel_size=(5, 5), stride=(2, 2), padding=(1, 1))\n",
      "  (conv3): Conv2d(32, 64, kernel_size=(3, 3), stride=(1, 1), padding=(1, 1))\n",
      "  (pool): MaxPool2d(kernel_size=2, stride=2, padding=0, dilation=1, ceil_mode=False)\n",
      "  (fc1): Linear(in_features=2304, out_features=1024, bias=True)\n",
      "  (fc2): Linear(in_features=1024, out_features=256, bias=True)\n",
      "  (fc3): Linear(in_features=256, out_features=2, bias=True)\n",
      "  (dropout): Dropout(p=0.2)\n",
      ")\n"
     ]
    }
   ],
   "source": [
    "class Net (nn.Module):\n",
    "    def __init__(self):\n",
    "        super().__init__()\n",
    "        self.conv1 = nn.Conv2d (3, 16, 5, stride = 2, padding =1)\n",
    "        self.conv2 = nn.Conv2d (16, 32, 5, stride =2 ,padding =1)\n",
    "        self.conv3 = nn.Conv2d(32, 64, 3, stride = 1, padding = 1)\n",
    "        self.pool = nn.MaxPool2d(2,2)\n",
    "        #dimensions of the fc1 input layer = 64*6*6 (depth * reduced layer dimensions)\n",
    "        self.fc1 = nn.Linear((64*6*6), 1024)\n",
    "        self.fc2 = nn.Linear(1024, 256)\n",
    "        self.fc3 = nn.Linear(256, 2)\n",
    "        self.dropout = nn.Dropout (0.2)\n",
    "        \n",
    "    def forward (self, x):\n",
    "        x = self.pool(F.relu(self.conv1(x)))\n",
    "        x = self.pool(F.relu(self.conv2(x)))\n",
    "        x = self.pool(F.relu(self.conv3(x)))\n",
    "        \n",
    "        x = x.view (x.shape[0], -1)\n",
    "        x = self.dropout(x)\n",
    "        x = self.dropout(F.relu(self.fc1(x)))\n",
    "        x = self.dropout(F.relu(self.fc2(x)))\n",
    "        x = F.log_softmax(self.fc3(x), dim =1)\n",
    "        \n",
    "        return x\n",
    "\n",
    "model = Net()\n",
    "print (model)\n",
    "\n",
    "if train_on_gpu:\n",
    "    model.cuda()"
   ]
  },
  {
   "cell_type": "code",
   "execution_count": 18,
   "metadata": {},
   "outputs": [],
   "source": [
    "\n",
    "criterion = nn.NLLLoss()\n",
    "optimizer = optim.Adam(model.parameters(), lr=0.001)"
   ]
  },
  {
   "cell_type": "code",
   "execution_count": 19,
   "metadata": {},
   "outputs": [
    {
     "name": "stdout",
     "output_type": "stream",
     "text": [
      "Epoch: 1/15..  Training Loss: 0.654..  Training Accuracy: 0.610 Test Loss: 0.599..  Test Accuracy: 0.664\n",
      "Epoch: 2/15..  Training Loss: 0.608..  Training Accuracy: 0.672 Test Loss: 0.630..  Test Accuracy: 0.648\n",
      "Epoch: 3/15..  Training Loss: 0.579..  Training Accuracy: 0.693 Test Loss: 0.510..  Test Accuracy: 0.754\n",
      "Epoch: 4/15..  Training Loss: 0.559..  Training Accuracy: 0.711 Test Loss: 0.483..  Test Accuracy: 0.771\n",
      "Epoch: 5/15..  Training Loss: 0.537..  Training Accuracy: 0.732 Test Loss: 0.460..  Test Accuracy: 0.797\n",
      "Epoch: 6/15..  Training Loss: 0.527..  Training Accuracy: 0.738 Test Loss: 0.451..  Test Accuracy: 0.791\n",
      "Epoch: 7/15..  Training Loss: 0.513..  Training Accuracy: 0.749 Test Loss: 0.448..  Test Accuracy: 0.801\n",
      "Epoch: 8/15..  Training Loss: 0.498..  Training Accuracy: 0.755 Test Loss: 0.434..  Test Accuracy: 0.804\n",
      "Epoch: 9/15..  Training Loss: 0.494..  Training Accuracy: 0.762 Test Loss: 0.388..  Test Accuracy: 0.829\n",
      "Epoch: 10/15..  Training Loss: 0.484..  Training Accuracy: 0.766 Test Loss: 0.379..  Test Accuracy: 0.838\n",
      "Epoch: 11/15..  Training Loss: 0.468..  Training Accuracy: 0.776 Test Loss: 0.376..  Test Accuracy: 0.826\n",
      "Epoch: 12/15..  Training Loss: 0.462..  Training Accuracy: 0.778 Test Loss: 0.368..  Test Accuracy: 0.841\n",
      "Epoch: 13/15..  Training Loss: 0.454..  Training Accuracy: 0.782 Test Loss: 0.456..  Test Accuracy: 0.777\n",
      "Epoch: 14/15..  Training Loss: 0.447..  Training Accuracy: 0.784 Test Loss: 0.340..  Test Accuracy: 0.854\n",
      "Epoch: 15/15..  Training Loss: 0.436..  Training Accuracy: 0.793 Test Loss: 0.328..  Test Accuracy: 0.850\n"
     ]
    }
   ],
   "source": [
    "epochs = 15\n",
    "steps = 0\n",
    "\n",
    "train_losses, test_losses = [], []\n",
    "for e in range(epochs):\n",
    "    accuracyt = 0\n",
    "    running_loss = 0\n",
    "    for images, labels in trainloader:\n",
    "        \n",
    "        if train_on_gpu:\n",
    "            images, labels = images.cuda(), labels.cuda()\n",
    "        optimizer.zero_grad()\n",
    "        \n",
    "        log_ps = model(images)\n",
    "        ps = torch.exp(log_ps)\n",
    "        top_p, top_class = ps.topk(1, dim=1)\n",
    "        equals = top_class == labels.view(*top_class.shape)\n",
    "        accuracyt += torch.mean(equals.type(torch.FloatTensor))\n",
    "        \n",
    "        loss = criterion(log_ps, labels)\n",
    "        loss.backward()\n",
    "        optimizer.step()\n",
    "        \n",
    "        running_loss += loss.item()\n",
    "        \n",
    "    else:\n",
    "        test_loss = 0\n",
    "        accuracy = 0\n",
    "        \n",
    "        # Turn off gradients for validation, saves memory and computations\n",
    "        with torch.no_grad():\n",
    "            model.eval()\n",
    "            for images, labels in testloader:\n",
    "                if train_on_gpu:\n",
    "                    images, labels = images.cuda(), labels.cuda()\n",
    "                log_ps = model(images)\n",
    "                test_loss += criterion(log_ps, labels)\n",
    "                \n",
    "                ps = torch.exp(log_ps)\n",
    "                top_p, top_class = ps.topk(1, dim=1)\n",
    "                equals = top_class == labels.view(*top_class.shape)\n",
    "                accuracy += torch.mean(equals.type(torch.FloatTensor))\n",
    "        \n",
    "        model.train()\n",
    "        \n",
    "        train_losses.append(running_loss/len(trainloader))\n",
    "        test_losses.append(test_loss/len(testloader))\n",
    "\n",
    "        print(\"Epoch: {}/{}.. \".format(e+1, epochs),\n",
    "              \"Training Loss: {:.3f}.. \".format(train_losses[-1]),\n",
    "              \"Training Accuracy: {:.3f}\".format(accuracyt/len(trainloader)),\n",
    "              \"Test Loss: {:.3f}.. \".format(test_losses[-1]),\n",
    "              \"Test Accuracy: {:.3f}\".format(accuracy/len(testloader)))"
   ]
  },
  {
   "cell_type": "code",
   "execution_count": 20,
   "metadata": {},
   "outputs": [],
   "source": [
    "torch.save(model.state_dict(), 'model2 cnn85accuracy.pth')"
   ]
  },
  {
   "cell_type": "code",
   "execution_count": null,
   "metadata": {},
   "outputs": [],
   "source": []
  }
 ],
 "metadata": {
  "kernelspec": {
   "display_name": "Python 3",
   "language": "python",
   "name": "python3"
  },
  "language_info": {
   "codemirror_mode": {
    "name": "ipython",
    "version": 3
   },
   "file_extension": ".py",
   "mimetype": "text/x-python",
   "name": "python",
   "nbconvert_exporter": "python",
   "pygments_lexer": "ipython3",
   "version": "3.6.3"
  }
 },
 "nbformat": 4,
 "nbformat_minor": 2
}
